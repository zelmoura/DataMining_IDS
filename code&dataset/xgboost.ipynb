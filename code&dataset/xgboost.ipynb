{
 "cells": [
  {
   "cell_type": "code",
   "execution_count": 18,
   "id": "44b17de4",
   "metadata": {},
   "outputs": [],
   "source": [
    "import time\n",
    "import numpy as np\n",
    "import pandas as pd\n",
    "import seaborn as sns\n",
    "import matplotlib.pyplot as plt\n",
    "from sklearn.model_selection import train_test_split\n",
    "from sklearn.metrics import confusion_matrix,accuracy_score,precision_recall_fscore_support, f1_score\n",
    "import xgboost as xgb\n",
    "from xgboost import plot_importance\n",
    "from sklearn.linear_model import LogisticRegression\n",
    "from pandas.plotting import scatter_matrix\n",
    "from sklearn.utils import shuffle\n"
   ]
  },
  {
   "cell_type": "code",
   "execution_count": 19,
   "id": "2f9af694",
   "metadata": {},
   "outputs": [],
   "source": [
    "df = pd.read_csv('datasetwithoutexploit.csv')"
   ]
  },
  {
   "cell_type": "code",
   "execution_count": 20,
   "id": "fa0ca965",
   "metadata": {},
   "outputs": [
    {
     "data": {
      "text/plain": [
       "BENIGN        41002\n",
       "Web attack    14667\n",
       "DDOS           2506\n",
       "SCANNING       2500\n",
       "RECON          2498\n",
       "DOS            2497\n",
       "RANSOMWARE     2493\n",
       "BOT            2489\n",
       "BRUTEFORCE     2485\n",
       "BACKDOOR       2485\n",
       "MITM           2471\n",
       "THEFT          2431\n",
       "SHELLCODE      1427\n",
       "Name: Attack_Category, dtype: int64"
      ]
     },
     "execution_count": 20,
     "metadata": {},
     "output_type": "execute_result"
    }
   ],
   "source": [
    "# Groupement des classes\n",
    "attack_group = {'Infilteration': 'Web attack', \n",
    "                'Fuzzers': 'Web attack',\n",
    "                'Generic': 'Web attack',\n",
    "                'injection': 'Web attack', \n",
    "                'Analysis': 'Web attack',\n",
    "                'xss': 'Web attack',\n",
    "                'Benign': 'BENIGN',\n",
    "                'backdoor': 'BACKDOOR', \n",
    "                'scanning': 'SCANNING',\n",
    "                'mitm': 'MITM', \n",
    "                'dos': 'DOS', \n",
    "                'ddos': 'DDOS', \n",
    "                'bruteforce': 'BRUTEFORCE', \n",
    "                'Theft': 'THEFT', \n",
    "                'Reconnaissance': 'RECON',\n",
    "                'Shellcode': 'SHELLCODE',\n",
    "                'ransomware': 'RANSOMWARE',\n",
    "                'Bot': 'BOT',\n",
    "                }\n",
    "# Creation d'une colomne Attack catégorie\n",
    "df['Attack_Category'] = df['Attack'].map(lambda x: attack_group[x])\n",
    "df['Attack_Category'].value_counts()"
   ]
  },
  {
   "cell_type": "code",
   "execution_count": 21,
   "id": "340fe694",
   "metadata": {},
   "outputs": [
    {
     "data": {
      "text/plain": [
       "0    41002\n",
       "1    40949\n",
       "Name: Label, dtype: int64"
      ]
     },
     "execution_count": 21,
     "metadata": {},
     "output_type": "execute_result"
    }
   ],
   "source": [
    "df.Label.value_counts()"
   ]
  },
  {
   "cell_type": "code",
   "execution_count": 22,
   "id": "f5011d5e",
   "metadata": {},
   "outputs": [
    {
     "data": {
      "text/plain": [
       "BENIGN        41002\n",
       "Web attack    14667\n",
       "DDOS           2506\n",
       "SCANNING       2500\n",
       "RECON          2498\n",
       "DOS            2497\n",
       "RANSOMWARE     2493\n",
       "BOT            2489\n",
       "BRUTEFORCE     2485\n",
       "BACKDOOR       2485\n",
       "MITM           2471\n",
       "THEFT          2431\n",
       "SHELLCODE      1427\n",
       "Name: Attack_Category, dtype: int64"
      ]
     },
     "execution_count": 22,
     "metadata": {},
     "output_type": "execute_result"
    }
   ],
   "source": [
    "df.Attack_Category.value_counts()"
   ]
  },
  {
   "cell_type": "code",
   "execution_count": 23,
   "id": "de46b2df",
   "metadata": {},
   "outputs": [],
   "source": [
    "cols = list(df)\n",
    "cols.insert(43, cols.pop(cols.index('Attack')))\n",
    "df = df.loc[:, cols]"
   ]
  },
  {
   "cell_type": "code",
   "execution_count": 24,
   "id": "f213273f",
   "metadata": {},
   "outputs": [],
   "source": [
    "X = df.drop(['Label','Attack','Attack_Category'],axis=1).values \n",
    "y = df.iloc[:, -3].values.reshape(-1,1)\n",
    "y=np.ravel(y)"
   ]
  },
  {
   "cell_type": "code",
   "execution_count": 25,
   "id": "05368f48",
   "metadata": {},
   "outputs": [],
   "source": [
    "X_train, X_test, y_train, y_test = train_test_split(X, y, test_size = 0.2, random_state = 0,stratify = y)\n"
   ]
  },
  {
   "cell_type": "code",
   "execution_count": 26,
   "id": "07b8f201",
   "metadata": {},
   "outputs": [
    {
     "data": {
      "text/plain": [
       "(16391, 41)"
      ]
     },
     "execution_count": 26,
     "metadata": {},
     "output_type": "execute_result"
    }
   ],
   "source": [
    "X_test.shape"
   ]
  },
  {
   "cell_type": "code",
   "execution_count": 27,
   "id": "8a3c5ccb",
   "metadata": {},
   "outputs": [
    {
     "name": "stdout",
     "output_type": "stream",
     "text": [
      "temps entrainement: 12.571461915969849\n",
      "temps prediction: 0.045426130294799805\n",
      "Exactitude de XGboost: 0.9999389909096456\n",
      "Précision de XGboost: 0.9999389983579534\n",
      "Taux de détection de XGboost: 0.9999389909096456\n",
      "F1-score de XGboost: 0.9999389909119165\n"
     ]
    },
    {
     "data": {
      "image/png": "[encoded data removed]",
      "text/plain": [
       "<Figure size 360x360 with 2 Axes>"
      ]
     },
     "metadata": {
      "needs_background": "light"
     },
     "output_type": "display_data"
    }
   ],
   "source": [
    "# XGboost training and prediction\n",
    "xg = xgb.XGBClassifier(n_estimators = 240)\n",
    "start = time.time()\n",
    "xg.fit(X_train,y_train)\n",
    "end = time.time()\n",
    "training_time = end  - start\n",
    "xg_score=xg.score(X_test,y_test)\n",
    "start = time.time()\n",
    "y_predict=xg.predict(X_test)\n",
    "end = time.time()\n",
    "predict_time = end  - start\n",
    "y_true=y_test\n",
    "p,r,fs,none= precision_recall_fscore_support(y_true,\n",
    "                                             y_predict,\n",
    "                                             average='weighted') \n",
    "print('temps entrainement: '+ str(training_time))\n",
    "print('temps prediction: '+ str(predict_time))\n",
    "print('Exactitude de XGboost: '+ str(xg_score))\n",
    "print('Précision de XGboost: '+(str(p)))\n",
    "print('Taux de détection de XGboost: '+(str(r)))\n",
    "print('F1-score de XGboost: '+(str(fs)))\n",
    "#print(classification_report(y_true,y_predict))\n",
    "cm=confusion_matrix(y_true,y_predict)\n",
    "f,ax=plt.subplots(figsize=(5,5))\n",
    "sns.heatmap(cm,annot=True,linewidth=0.5,linecolor=\"red\",fmt=\".0f\",ax=ax)\n",
    "plt.xlabel(\"y_pred\")\n",
    "plt.ylabel(\"y_true\")\n",
    "plt.xlabel('Prédit')\n",
    "plt.ylabel('Réel')\n",
    "plt.title('Matrice de Confusion \\n XGboost')\n",
    "plt.show()"
   ]
  }
 ],
 "metadata": {
  "kernelspec": {
   "display_name": "Python 3 (ipykernel)",
   "language": "python",
   "name": "python3"
  },
  "language_info": {
   "codemirror_mode": {
    "name": "ipython",
    "version": 3
   },
   "file_extension": ".py",
   "mimetype": "text/x-python",
   "name": "python",
   "nbconvert_exporter": "python",
   "pygments_lexer": "ipython3",
   "version": "3.9.12"
  }
 },
 "nbformat": 4,
 "nbformat_minor": 5
}
