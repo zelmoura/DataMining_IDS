{
 "cells": [
  {
   "cell_type": "code",
   "execution_count": 12,
   "id": "8f202b2c",
   "metadata": {},
   "outputs": [],
   "source": [
    "import time\n",
    "import numpy as np\n",
    "import pandas as pd\n",
    "import seaborn as sns\n",
    "import matplotlib.pyplot as plt\n",
    "from sklearn.preprocessing import LabelEncoder #,Imputer \n",
    "from sklearn.model_selection import train_test_split\n",
    "from sklearn.metrics import classification_report,confusion_matrix,accuracy_score,precision_recall_fscore_support\n",
    "from sklearn.metrics import f1_score\n",
    "from sklearn.neighbors import KNeighborsClassifier\n",
    "from sklearn.ensemble import RandomForestClassifier\n",
    "from sklearn.ensemble import GradientBoostingClassifier\n",
    "from sklearn.metrics import accuracy_score, recall_score, precision_score, f1_score\n",
    "from sklearn.metrics import confusion_matrix, ConfusionMatrixDisplay"
   ]
  },
  {
   "cell_type": "code",
   "execution_count": 2,
   "id": "5d2fa661",
   "metadata": {},
   "outputs": [],
   "source": [
    "#Read dataset\n",
    "df = pd.read_csv('datasetwithoutexploit.csv')"
   ]
  },
  {
   "cell_type": "code",
   "execution_count": 3,
   "id": "42e326fa",
   "metadata": {},
   "outputs": [
    {
     "data": {
      "text/plain": [
       "BENIGN        41002\n",
       "Web attack    14667\n",
       "DDOS           2506\n",
       "SCANNING       2500\n",
       "RECON          2498\n",
       "DOS            2497\n",
       "RANSOMWARE     2493\n",
       "BOT            2489\n",
       "BACKDOOR       2485\n",
       "BRUTEFORCE     2485\n",
       "MITM           2471\n",
       "THEFT          2431\n",
       "SHELLCODE      1427\n",
       "Name: Attack_Category, dtype: int64"
      ]
     },
     "execution_count": 3,
     "metadata": {},
     "output_type": "execute_result"
    }
   ],
   "source": [
    "# Groupement des classes\n",
    "attack_group = {'Infilteration': 'Web attack', \n",
    "                'Fuzzers': 'Web attack',\n",
    "                'Generic': 'Web attack',\n",
    "                'injection': 'Web attack', \n",
    "                'Analysis': 'Web attack',\n",
    "                'xss': 'Web attack',\n",
    "                'Benign': 'BENIGN',\n",
    "                'backdoor': 'BACKDOOR', \n",
    "                'scanning': 'SCANNING',\n",
    "                'mitm': 'MITM', \n",
    "                'dos': 'DOS', \n",
    "                'ddos': 'DDOS', \n",
    "                'bruteforce': 'BRUTEFORCE', \n",
    "                'Theft': 'THEFT', \n",
    "                'Reconnaissance': 'RECON',\n",
    "                'Shellcode': 'SHELLCODE',\n",
    "                'ransomware': 'RANSOMWARE',\n",
    "                'Bot': 'BOT',\n",
    "                }\n",
    "# Creation d'une colomne Attack catégorie\n",
    "df['Attack_Category'] = df['Attack'].map(lambda x: attack_group[x])\n",
    "df['Attack_Category'].value_counts()"
   ]
  },
  {
   "cell_type": "code",
   "execution_count": 4,
   "id": "ef7a7931",
   "metadata": {},
   "outputs": [
    {
     "data": {
      "text/plain": [
       "0    41002\n",
       "1    40949\n",
       "Name: Label, dtype: int64"
      ]
     },
     "execution_count": 4,
     "metadata": {},
     "output_type": "execute_result"
    }
   ],
   "source": [
    "df.Label.value_counts()"
   ]
  },
  {
   "cell_type": "code",
   "execution_count": 5,
   "id": "87aa880a",
   "metadata": {},
   "outputs": [
    {
     "data": {
      "text/plain": [
       "BENIGN        41002\n",
       "Web attack    14667\n",
       "DDOS           2506\n",
       "SCANNING       2500\n",
       "RECON          2498\n",
       "DOS            2497\n",
       "RANSOMWARE     2493\n",
       "BOT            2489\n",
       "BACKDOOR       2485\n",
       "BRUTEFORCE     2485\n",
       "MITM           2471\n",
       "THEFT          2431\n",
       "SHELLCODE      1427\n",
       "Name: Attack_Category, dtype: int64"
      ]
     },
     "execution_count": 5,
     "metadata": {},
     "output_type": "execute_result"
    }
   ],
   "source": [
    "df.Attack_Category.value_counts()"
   ]
  },
  {
   "cell_type": "code",
   "execution_count": 6,
   "id": "b54799b1",
   "metadata": {},
   "outputs": [
    {
     "data": {
      "text/plain": [
       "Benign            41002\n",
       "ddos               2506\n",
       "scanning           2500\n",
       "Reconnaissance     2498\n",
       "dos                2497\n",
       "ransomware         2493\n",
       "Infilteration      2491\n",
       "Fuzzers            2490\n",
       "Bot                2489\n",
       "Generic            2487\n",
       "bruteforce         2485\n",
       "backdoor           2485\n",
       "mitm               2471\n",
       "xss                2457\n",
       "injection          2443\n",
       "Theft              2431\n",
       "Analysis           2299\n",
       "Shellcode          1427\n",
       "Name: Attack, dtype: int64"
      ]
     },
     "execution_count": 6,
     "metadata": {},
     "output_type": "execute_result"
    }
   ],
   "source": [
    "df.Attack.value_counts()"
   ]
  },
  {
   "cell_type": "code",
   "execution_count": 7,
   "id": "a67b415e",
   "metadata": {},
   "outputs": [],
   "source": [
    "cols = list(df)\n",
    "cols.insert(43, cols.pop(cols.index('Attack')))\n",
    "df = df.loc[:, cols]"
   ]
  },
  {
   "cell_type": "code",
   "execution_count": 8,
   "id": "1ad2ca52",
   "metadata": {},
   "outputs": [
    {
     "data": {
      "text/html": [
       "<div>\n",
       "<style scoped>\n",
       "    .dataframe tbody tr th:only-of-type {\n",
       "        vertical-align: middle;\n",
       "    }\n",
       "\n",
       "    .dataframe tbody tr th {\n",
       "        vertical-align: top;\n",
       "    }\n",
       "\n",
       "    .dataframe thead th {\n",
       "        text-align: right;\n",
       "    }\n",
       "</style>\n",
       "<table border=\"1\" class=\"dataframe\">\n",
       "  <thead>\n",
       "    <tr style=\"text-align: right;\">\n",
       "      <th></th>\n",
       "      <th>L4_SRC_PORT</th>\n",
       "      <th>L4_DST_PORT</th>\n",
       "      <th>PROTOCOL</th>\n",
       "      <th>L7_PROTO</th>\n",
       "      <th>IN_BYTES</th>\n",
       "      <th>IN_PKTS</th>\n",
       "      <th>OUT_BYTES</th>\n",
       "      <th>OUT_PKTS</th>\n",
       "      <th>TCP_FLAGS</th>\n",
       "      <th>CLIENT_TCP_FLAGS</th>\n",
       "      <th>...</th>\n",
       "      <th>TCP_WIN_MAX_OUT</th>\n",
       "      <th>ICMP_TYPE</th>\n",
       "      <th>ICMP_IPV4_TYPE</th>\n",
       "      <th>DNS_QUERY_ID</th>\n",
       "      <th>DNS_QUERY_TYPE</th>\n",
       "      <th>DNS_TTL_ANSWER</th>\n",
       "      <th>FTP_COMMAND_RET_CODE</th>\n",
       "      <th>Label</th>\n",
       "      <th>Attack_Category</th>\n",
       "      <th>Attack</th>\n",
       "    </tr>\n",
       "  </thead>\n",
       "  <tbody>\n",
       "    <tr>\n",
       "      <th>0</th>\n",
       "      <td>0.582666</td>\n",
       "      <td>0.006790</td>\n",
       "      <td>0.023529</td>\n",
       "      <td>0.172269</td>\n",
       "      <td>0.000048</td>\n",
       "      <td>0.000264</td>\n",
       "      <td>0.000002</td>\n",
       "      <td>0.000246</td>\n",
       "      <td>0.139013</td>\n",
       "      <td>0.121076</td>\n",
       "      <td>...</td>\n",
       "      <td>0.125002</td>\n",
       "      <td>0.0</td>\n",
       "      <td>0.0</td>\n",
       "      <td>0.0</td>\n",
       "      <td>0.0</td>\n",
       "      <td>0.0</td>\n",
       "      <td>0.0</td>\n",
       "      <td>1</td>\n",
       "      <td>RANSOMWARE</td>\n",
       "      <td>ransomware</td>\n",
       "    </tr>\n",
       "    <tr>\n",
       "      <th>1</th>\n",
       "      <td>0.583490</td>\n",
       "      <td>0.006790</td>\n",
       "      <td>0.023529</td>\n",
       "      <td>0.172269</td>\n",
       "      <td>0.000024</td>\n",
       "      <td>0.000122</td>\n",
       "      <td>0.000001</td>\n",
       "      <td>0.000123</td>\n",
       "      <td>0.139013</td>\n",
       "      <td>0.121076</td>\n",
       "      <td>...</td>\n",
       "      <td>0.125002</td>\n",
       "      <td>0.0</td>\n",
       "      <td>0.0</td>\n",
       "      <td>0.0</td>\n",
       "      <td>0.0</td>\n",
       "      <td>0.0</td>\n",
       "      <td>0.0</td>\n",
       "      <td>1</td>\n",
       "      <td>RANSOMWARE</td>\n",
       "      <td>ransomware</td>\n",
       "    </tr>\n",
       "    <tr>\n",
       "      <th>2</th>\n",
       "      <td>0.672023</td>\n",
       "      <td>0.006790</td>\n",
       "      <td>0.023529</td>\n",
       "      <td>0.172269</td>\n",
       "      <td>0.000024</td>\n",
       "      <td>0.000122</td>\n",
       "      <td>0.000001</td>\n",
       "      <td>0.000123</td>\n",
       "      <td>0.139013</td>\n",
       "      <td>0.121076</td>\n",
       "      <td>...</td>\n",
       "      <td>0.125002</td>\n",
       "      <td>0.0</td>\n",
       "      <td>0.0</td>\n",
       "      <td>0.0</td>\n",
       "      <td>0.0</td>\n",
       "      <td>0.0</td>\n",
       "      <td>0.0</td>\n",
       "      <td>1</td>\n",
       "      <td>RANSOMWARE</td>\n",
       "      <td>ransomware</td>\n",
       "    </tr>\n",
       "    <tr>\n",
       "      <th>3</th>\n",
       "      <td>0.523156</td>\n",
       "      <td>0.006790</td>\n",
       "      <td>0.023529</td>\n",
       "      <td>0.172269</td>\n",
       "      <td>0.000024</td>\n",
       "      <td>0.000122</td>\n",
       "      <td>0.000001</td>\n",
       "      <td>0.000123</td>\n",
       "      <td>0.139013</td>\n",
       "      <td>0.121076</td>\n",
       "      <td>...</td>\n",
       "      <td>0.125002</td>\n",
       "      <td>0.0</td>\n",
       "      <td>0.0</td>\n",
       "      <td>0.0</td>\n",
       "      <td>0.0</td>\n",
       "      <td>0.0</td>\n",
       "      <td>0.0</td>\n",
       "      <td>1</td>\n",
       "      <td>RANSOMWARE</td>\n",
       "      <td>ransomware</td>\n",
       "    </tr>\n",
       "    <tr>\n",
       "      <th>4</th>\n",
       "      <td>0.578912</td>\n",
       "      <td>0.006790</td>\n",
       "      <td>0.023529</td>\n",
       "      <td>0.172269</td>\n",
       "      <td>0.000024</td>\n",
       "      <td>0.000122</td>\n",
       "      <td>0.000001</td>\n",
       "      <td>0.000123</td>\n",
       "      <td>0.139013</td>\n",
       "      <td>0.121076</td>\n",
       "      <td>...</td>\n",
       "      <td>0.125002</td>\n",
       "      <td>0.0</td>\n",
       "      <td>0.0</td>\n",
       "      <td>0.0</td>\n",
       "      <td>0.0</td>\n",
       "      <td>0.0</td>\n",
       "      <td>0.0</td>\n",
       "      <td>1</td>\n",
       "      <td>RANSOMWARE</td>\n",
       "      <td>ransomware</td>\n",
       "    </tr>\n",
       "    <tr>\n",
       "      <th>...</th>\n",
       "      <td>...</td>\n",
       "      <td>...</td>\n",
       "      <td>...</td>\n",
       "      <td>...</td>\n",
       "      <td>...</td>\n",
       "      <td>...</td>\n",
       "      <td>...</td>\n",
       "      <td>...</td>\n",
       "      <td>...</td>\n",
       "      <td>...</td>\n",
       "      <td>...</td>\n",
       "      <td>...</td>\n",
       "      <td>...</td>\n",
       "      <td>...</td>\n",
       "      <td>...</td>\n",
       "      <td>...</td>\n",
       "      <td>...</td>\n",
       "      <td>...</td>\n",
       "      <td>...</td>\n",
       "      <td>...</td>\n",
       "      <td>...</td>\n",
       "    </tr>\n",
       "    <tr>\n",
       "      <th>81946</th>\n",
       "      <td>0.643442</td>\n",
       "      <td>0.001221</td>\n",
       "      <td>0.023529</td>\n",
       "      <td>0.028226</td>\n",
       "      <td>0.001525</td>\n",
       "      <td>0.000541</td>\n",
       "      <td>0.000018</td>\n",
       "      <td>0.000221</td>\n",
       "      <td>0.102804</td>\n",
       "      <td>0.030303</td>\n",
       "      <td>...</td>\n",
       "      <td>0.644208</td>\n",
       "      <td>0.0</td>\n",
       "      <td>0.0</td>\n",
       "      <td>0.0</td>\n",
       "      <td>0.0</td>\n",
       "      <td>0.0</td>\n",
       "      <td>0.0</td>\n",
       "      <td>1</td>\n",
       "      <td>RECON</td>\n",
       "      <td>Reconnaissance</td>\n",
       "    </tr>\n",
       "    <tr>\n",
       "      <th>81947</th>\n",
       "      <td>0.675822</td>\n",
       "      <td>0.001221</td>\n",
       "      <td>0.023529</td>\n",
       "      <td>0.028226</td>\n",
       "      <td>0.001525</td>\n",
       "      <td>0.000541</td>\n",
       "      <td>0.000018</td>\n",
       "      <td>0.000221</td>\n",
       "      <td>0.102804</td>\n",
       "      <td>0.030303</td>\n",
       "      <td>...</td>\n",
       "      <td>0.644208</td>\n",
       "      <td>0.0</td>\n",
       "      <td>0.0</td>\n",
       "      <td>0.0</td>\n",
       "      <td>0.0</td>\n",
       "      <td>0.0</td>\n",
       "      <td>0.0</td>\n",
       "      <td>1</td>\n",
       "      <td>RECON</td>\n",
       "      <td>Reconnaissance</td>\n",
       "    </tr>\n",
       "    <tr>\n",
       "      <th>81948</th>\n",
       "      <td>0.642741</td>\n",
       "      <td>0.001221</td>\n",
       "      <td>0.023529</td>\n",
       "      <td>0.028226</td>\n",
       "      <td>0.001525</td>\n",
       "      <td>0.000541</td>\n",
       "      <td>0.000018</td>\n",
       "      <td>0.000221</td>\n",
       "      <td>0.102804</td>\n",
       "      <td>0.030303</td>\n",
       "      <td>...</td>\n",
       "      <td>0.644208</td>\n",
       "      <td>0.0</td>\n",
       "      <td>0.0</td>\n",
       "      <td>0.0</td>\n",
       "      <td>0.0</td>\n",
       "      <td>0.0</td>\n",
       "      <td>0.0</td>\n",
       "      <td>1</td>\n",
       "      <td>RECON</td>\n",
       "      <td>Reconnaissance</td>\n",
       "    </tr>\n",
       "    <tr>\n",
       "      <th>81949</th>\n",
       "      <td>0.624186</td>\n",
       "      <td>0.001221</td>\n",
       "      <td>0.023529</td>\n",
       "      <td>0.028226</td>\n",
       "      <td>0.001525</td>\n",
       "      <td>0.000541</td>\n",
       "      <td>0.000018</td>\n",
       "      <td>0.000221</td>\n",
       "      <td>0.102804</td>\n",
       "      <td>0.030303</td>\n",
       "      <td>...</td>\n",
       "      <td>0.644208</td>\n",
       "      <td>0.0</td>\n",
       "      <td>0.0</td>\n",
       "      <td>0.0</td>\n",
       "      <td>0.0</td>\n",
       "      <td>0.0</td>\n",
       "      <td>0.0</td>\n",
       "      <td>1</td>\n",
       "      <td>RECON</td>\n",
       "      <td>Reconnaissance</td>\n",
       "    </tr>\n",
       "    <tr>\n",
       "      <th>81950</th>\n",
       "      <td>0.907301</td>\n",
       "      <td>0.768536</td>\n",
       "      <td>0.023529</td>\n",
       "      <td>0.000000</td>\n",
       "      <td>0.000193</td>\n",
       "      <td>0.000000</td>\n",
       "      <td>0.000016</td>\n",
       "      <td>0.000221</td>\n",
       "      <td>0.102804</td>\n",
       "      <td>0.010101</td>\n",
       "      <td>...</td>\n",
       "      <td>0.000000</td>\n",
       "      <td>0.0</td>\n",
       "      <td>0.0</td>\n",
       "      <td>0.0</td>\n",
       "      <td>0.0</td>\n",
       "      <td>0.0</td>\n",
       "      <td>0.0</td>\n",
       "      <td>1</td>\n",
       "      <td>RECON</td>\n",
       "      <td>Reconnaissance</td>\n",
       "    </tr>\n",
       "  </tbody>\n",
       "</table>\n",
       "<p>81951 rows × 44 columns</p>\n",
       "</div>"
      ],
      "text/plain": [
       "       L4_SRC_PORT  L4_DST_PORT  PROTOCOL  L7_PROTO  IN_BYTES   IN_PKTS  \\\n",
       "0         0.582666     0.006790  0.023529  0.172269  0.000048  0.000264   \n",
       "1         0.583490     0.006790  0.023529  0.172269  0.000024  0.000122   \n",
       "2         0.672023     0.006790  0.023529  0.172269  0.000024  0.000122   \n",
       "3         0.523156     0.006790  0.023529  0.172269  0.000024  0.000122   \n",
       "4         0.578912     0.006790  0.023529  0.172269  0.000024  0.000122   \n",
       "...            ...          ...       ...       ...       ...       ...   \n",
       "81946     0.643442     0.001221  0.023529  0.028226  0.001525  0.000541   \n",
       "81947     0.675822     0.001221  0.023529  0.028226  0.001525  0.000541   \n",
       "81948     0.642741     0.001221  0.023529  0.028226  0.001525  0.000541   \n",
       "81949     0.624186     0.001221  0.023529  0.028226  0.001525  0.000541   \n",
       "81950     0.907301     0.768536  0.023529  0.000000  0.000193  0.000000   \n",
       "\n",
       "       OUT_BYTES  OUT_PKTS  TCP_FLAGS  CLIENT_TCP_FLAGS  ...  TCP_WIN_MAX_OUT  \\\n",
       "0       0.000002  0.000246   0.139013          0.121076  ...         0.125002   \n",
       "1       0.000001  0.000123   0.139013          0.121076  ...         0.125002   \n",
       "2       0.000001  0.000123   0.139013          0.121076  ...         0.125002   \n",
       "3       0.000001  0.000123   0.139013          0.121076  ...         0.125002   \n",
       "4       0.000001  0.000123   0.139013          0.121076  ...         0.125002   \n",
       "...          ...       ...        ...               ...  ...              ...   \n",
       "81946   0.000018  0.000221   0.102804          0.030303  ...         0.644208   \n",
       "81947   0.000018  0.000221   0.102804          0.030303  ...         0.644208   \n",
       "81948   0.000018  0.000221   0.102804          0.030303  ...         0.644208   \n",
       "81949   0.000018  0.000221   0.102804          0.030303  ...         0.644208   \n",
       "81950   0.000016  0.000221   0.102804          0.010101  ...         0.000000   \n",
       "\n",
       "       ICMP_TYPE  ICMP_IPV4_TYPE  DNS_QUERY_ID  DNS_QUERY_TYPE  \\\n",
       "0            0.0             0.0           0.0             0.0   \n",
       "1            0.0             0.0           0.0             0.0   \n",
       "2            0.0             0.0           0.0             0.0   \n",
       "3            0.0             0.0           0.0             0.0   \n",
       "4            0.0             0.0           0.0             0.0   \n",
       "...          ...             ...           ...             ...   \n",
       "81946        0.0             0.0           0.0             0.0   \n",
       "81947        0.0             0.0           0.0             0.0   \n",
       "81948        0.0             0.0           0.0             0.0   \n",
       "81949        0.0             0.0           0.0             0.0   \n",
       "81950        0.0             0.0           0.0             0.0   \n",
       "\n",
       "       DNS_TTL_ANSWER  FTP_COMMAND_RET_CODE  Label  Attack_Category  \\\n",
       "0                 0.0                   0.0      1       RANSOMWARE   \n",
       "1                 0.0                   0.0      1       RANSOMWARE   \n",
       "2                 0.0                   0.0      1       RANSOMWARE   \n",
       "3                 0.0                   0.0      1       RANSOMWARE   \n",
       "4                 0.0                   0.0      1       RANSOMWARE   \n",
       "...               ...                   ...    ...              ...   \n",
       "81946             0.0                   0.0      1            RECON   \n",
       "81947             0.0                   0.0      1            RECON   \n",
       "81948             0.0                   0.0      1            RECON   \n",
       "81949             0.0                   0.0      1            RECON   \n",
       "81950             0.0                   0.0      1            RECON   \n",
       "\n",
       "               Attack  \n",
       "0          ransomware  \n",
       "1          ransomware  \n",
       "2          ransomware  \n",
       "3          ransomware  \n",
       "4          ransomware  \n",
       "...               ...  \n",
       "81946  Reconnaissance  \n",
       "81947  Reconnaissance  \n",
       "81948  Reconnaissance  \n",
       "81949  Reconnaissance  \n",
       "81950  Reconnaissance  \n",
       "\n",
       "[81951 rows x 44 columns]"
      ]
     },
     "execution_count": 8,
     "metadata": {},
     "output_type": "execute_result"
    }
   ],
   "source": [
    "df"
   ]
  },
  {
   "cell_type": "markdown",
   "id": "38081bd0",
   "metadata": {},
   "source": [
    "### split train set and test set"
   ]
  },
  {
   "cell_type": "code",
   "execution_count": 9,
   "id": "b2646bab",
   "metadata": {
    "scrolled": true
   },
   "outputs": [
    {
     "name": "stdout",
     "output_type": "stream",
     "text": [
      "(65560, 41)\n",
      "(16391, 41)\n"
     ]
    }
   ],
   "source": [
    "X = df.drop(['Label','Attack','Attack_Category'],axis=1).values \n",
    "y = df.iloc[:, -3].values.reshape(-1,1)\n",
    "y=np.ravel(y)\n",
    "X_train, X_test, y_train, y_test = train_test_split(X,y, train_size = 0.8, test_size = 0.2, random_state = 42,stratify = y)\n",
    "print(X_train.shape)\n",
    "print(X_test.shape)"
   ]
  },
  {
   "cell_type": "code",
   "execution_count": 10,
   "id": "8bdb7a62",
   "metadata": {
    "scrolled": true
   },
   "outputs": [
    {
     "data": {
      "text/plain": [
       "0    32801\n",
       "1    32759\n",
       "dtype: int64"
      ]
     },
     "execution_count": 10,
     "metadata": {},
     "output_type": "execute_result"
    }
   ],
   "source": [
    "pd.Series(y_train).value_counts()"
   ]
  },
  {
   "cell_type": "markdown",
   "id": "85119873",
   "metadata": {},
   "source": [
    "### Training : Gradient Boosting"
   ]
  },
  {
   "cell_type": "markdown",
   "id": "8d22184a",
   "metadata": {},
   "source": [
    "## Training Loop"
   ]
  },
  {
   "cell_type": "code",
   "execution_count": 14,
   "id": "596b07b3",
   "metadata": {},
   "outputs": [],
   "source": [
    "from sklearn.utils import shuffle"
   ]
  },
  {
   "cell_type": "code",
   "execution_count": 15,
   "id": "53e5701b",
   "metadata": {},
   "outputs": [],
   "source": [
    "data_train=pd.DataFrame(X_train)\n",
    "data_train['label']=y_train"
   ]
  },
  {
   "cell_type": "code",
   "execution_count": 80,
   "id": "01986b70",
   "metadata": {},
   "outputs": [
    {
     "name": "stdout",
     "output_type": "stream",
     "text": [
      "EPOCH  1 \t ACCURACY=  0.9999694935936546\n",
      "EPOCH  2 \t ACCURACY=  0.9999694935936546\n",
      "EPOCH  3 \t ACCURACY=  0.9999694935936546\n",
      "EPOCH  4 \t ACCURACY=  0.9999694935936546\n",
      "EPOCH  5 \t ACCURACY=  0.9999694935936546\n",
      "EPOCH  6 \t ACCURACY=  0.9999694935936546\n",
      "EPOCH  7 \t ACCURACY=  0.9999694935936546\n",
      "EPOCH  8 \t ACCURACY=  0.9999694935936546\n"
     ]
    }
   ],
   "source": [
    "val_score=[]\n",
    "model = GradientBoostingClassifier(n_estimators=100, random_state=30)\n",
    "start = time.time()\n",
    "for i in range(1,9):\n",
    "    data_train=shuffle(data_train)\n",
    "    X=data_train.iloc[:,:41] \n",
    "    y=data_train.iloc[:,41]\n",
    "    model.fit(X,y) \n",
    "    score=model.score(X,y)\n",
    "    print('EPOCH ',i,'\\t ACCURACY= ',score)\n",
    "    val_score.append(score)    \n",
    "end = time.time()\n",
    "training_time = end  - start"
   ]
  },
  {
   "cell_type": "code",
   "execution_count": 81,
   "id": "369e2107",
   "metadata": {
    "scrolled": false
   },
   "outputs": [
    {
     "data": {
      "text/plain": [
       "Text(0, 0.5, 'score')"
      ]
     },
     "execution_count": 81,
     "metadata": {},
     "output_type": "execute_result"
    },
    {
     "data": {
      "image/png": "[encoded data removed]",
      "text/plain": [
       "<Figure size 432x288 with 1 Axes>"
      ]
     },
     "metadata": {
      "needs_background": "light"
     },
     "output_type": "display_data"
    }
   ],
   "source": [
    "plt.plot(val_score)\n",
    "plt.title('Validation')\n",
    "plt.ylabel('score')"
   ]
  },
  {
   "cell_type": "code",
   "execution_count": 82,
   "id": "1424b778",
   "metadata": {},
   "outputs": [],
   "source": [
    "start = time.time()\n",
    "y_predict=model.predict(X_test)\n",
    "end = time.time()\n",
    "predict_time = end  - start"
   ]
  },
  {
   "cell_type": "code",
   "execution_count": 83,
   "id": "58abb464",
   "metadata": {},
   "outputs": [
    {
     "name": "stdout",
     "output_type": "stream",
     "text": [
      "temps entrainement: 296.1378493309021\n",
      "temps prediction: 0.08055949211120605\n"
     ]
    }
   ],
   "source": [
    "print('temps entrainement: '+ str(training_time))\n",
    "print('temps prediction: '+ str(predict_time))"
   ]
  },
  {
   "cell_type": "code",
   "execution_count": 84,
   "id": "51bcc4d8",
   "metadata": {},
   "outputs": [
    {
     "name": "stdout",
     "output_type": "stream",
     "text": [
      "temps entrainement: 296.1378493309021\n",
      "temps prediction: 0.08055949211120605\n",
      "Exactitude de RF: 0.9999389909096456\n",
      "Précision de RF: 0.9999389983579534\n",
      "Taux de détection de RF: 0.9999389909096456\n",
      "F1-score de RF: 0.9999389909119165\n",
      "ERROR SCORE : 6.1009090354446904e-05\n"
     ]
    }
   ],
   "source": [
    "precision,recall,fscore,none= precision_recall_fscore_support(y_test, y_predict, average='weighted') \n",
    "print('temps entrainement: '+ str(training_time))\n",
    "print('temps prediction: '+ str(predict_time))\n",
    "print(\"Exactitude de RF: {}\".format(accuracy_score(y_test,y_predict)))\n",
    "print('Précision de RF: '+(str(precision)))\n",
    "print('Taux de détection de RF: '+(str(recall)))\n",
    "print('F1-score de RF: '+(str(fscore)))\n",
    "print(\"ERROR SCORE : {}\".format(1-accuracy_score(y_test,y_predict)))"
   ]
  },
  {
   "cell_type": "code",
   "execution_count": 85,
   "id": "838eadf9",
   "metadata": {},
   "outputs": [
    {
     "data": {
      "text/plain": [
       "array([[8200,    1],\n",
       "       [   0, 8190]], dtype=int64)"
      ]
     },
     "execution_count": 85,
     "metadata": {},
     "output_type": "execute_result"
    }
   ],
   "source": [
    "from sklearn.metrics import confusion_matrix, ConfusionMatrixDisplay\n",
    "\n",
    "cm=confusion_matrix(y_test, y_predict)\n",
    "cm"
   ]
  },
  {
   "cell_type": "code",
   "execution_count": 86,
   "id": "f3229537",
   "metadata": {
    "scrolled": false
   },
   "outputs": [
    {
     "data": {
      "image/png": "[encoded data removed]",
      "text/plain": [
       "<Figure size 432x288 with 2 Axes>"
      ]
     },
     "metadata": {
      "needs_background": "light"
     },
     "output_type": "display_data"
    }
   ],
   "source": [
    "disp = ConfusionMatrixDisplay(confusion_matrix=cm)\n",
    "disp.plot()\n",
    "plt.show()"
   ]
  },
  {
   "cell_type": "code",
   "execution_count": null,
   "id": "9942ffa1",
   "metadata": {},
   "outputs": [],
   "source": []
  }
 ],
 "metadata": {
  "kernelspec": {
   "display_name": "Python 3",
   "language": "python",
   "name": "python3"
  },
  "language_info": {
   "codemirror_mode": {
    "name": "ipython",
    "version": 3
   },
   "file_extension": ".py",
   "mimetype": "text/x-python",
   "name": "python",
   "nbconvert_exporter": "python",
   "pygments_lexer": "ipython3",
   "version": "3.8.8"
  }
 },
 "nbformat": 4,
 "nbformat_minor": 5
}
